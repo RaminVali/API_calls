{
 "cells": [
  {
   "cell_type": "markdown",
   "metadata": {},
   "source": [
    "## Homework 5 DSI BRS\n",
    "Taske 1: Getting the name and ids of all the tracks in a playlist"
   ]
  },
  {
   "cell_type": "code",
   "execution_count": 1,
   "metadata": {},
   "outputs": [],
   "source": [
    "import pandas as pd\n",
    "import requests\n",
    "import json\n",
    "import yaml"
   ]
  },
  {
   "cell_type": "code",
   "execution_count": 3,
   "metadata": {},
   "outputs": [],
   "source": [
    "with open ('secrets.yml', 'r') as f:\n",
    "    secrets = yaml.safe_load(f)"
   ]
  },
  {
   "cell_type": "code",
   "execution_count": 4,
   "metadata": {},
   "outputs": [
    {
     "name": "stdout",
     "output_type": "stream",
     "text": [
      "Status Code 200\n",
      "JSON Response  {'access_token': 'BQCedNEMJ4ffySuLjx_C3mVSOF-8XyRvkslbTqfkxJOyc8mW9l8L3nakXiPlbZ8nYiL87TeO_8p5zgsz4pHul1epdkONzHkGDoHs17GbN9_tzHQHhHI', 'token_type': 'Bearer', 'expires_in': 3600}\n"
     ]
    }
   ],
   "source": [
    "url = 'https://accounts.spotify.com/api/token'\n",
    "headers = {'Content-Type': 'application/x-www-form-urlencoded'}\n",
    "\n",
    "data = {\n",
    "   'grant_type':'client_credentials',\n",
    "   'client_id': secrets['client_id'],\n",
    "   'client_secret':secrets['client_secret']\n",
    "}\n",
    "\n",
    "auth_req = requests.post(url, headers=headers, data =data)\n",
    "\n",
    "print(\"Status Code\", auth_req.status_code)\n",
    "print(\"JSON Response \", auth_req.json())\n",
    "\n",
    "access_token = auth_req.json()['access_token']\n",
    "headers = {'Authorization': f'Bearer {access_token}'}"
   ]
  },
  {
   "cell_type": "code",
   "execution_count": 5,
   "metadata": {},
   "outputs": [],
   "source": [
    "playlist_url = 'https://open.spotify.com/playlist/4oYSWmdhUMwEu0yAFA47lZ'\n",
    "playlist_URI = playlist_url.split('/')[-1].split(\"?\")[0]"
   ]
  },
  {
   "cell_type": "code",
   "execution_count": 6,
   "metadata": {},
   "outputs": [
    {
     "name": "stdout",
     "output_type": "stream",
     "text": [
      "{'added_at': '2022-09-06T03:00:48Z', 'added_by': {'external_urls': {'spotify': 'https://open.spotify.com/user/tylerduong81'}, 'href': 'https://api.spotify.com/v1/users/tylerduong81', 'id': 'tylerduong81', 'type': 'user', 'uri': 'spotify:user:tylerduong81'}, 'is_local': False, 'primary_color': None, 'track': {'album': {'album_type': 'album', 'artists': [{'external_urls': {'spotify': 'https://open.spotify.com/artist/6PXS4YHDkKvl1wkIl4V8DL'}, 'href': 'https://api.spotify.com/v1/artists/6PXS4YHDkKvl1wkIl4V8DL', 'id': '6PXS4YHDkKvl1wkIl4V8DL', 'name': 'Fetty Wap', 'type': 'artist', 'uri': 'spotify:artist:6PXS4YHDkKvl1wkIl4V8DL'}], 'available_markets': ['AR', 'BO', 'BR', 'BG', 'CA', 'CL', 'CO', 'CR', 'CZ', 'DO', 'EC', 'EE', 'SV', 'GR', 'GT', 'HN', 'HK', 'HU', 'LV', 'LT', 'MY', 'MT', 'MX', 'NI', 'PA', 'PY', 'PE', 'PH', 'PL', 'SG', 'SK', 'TW', 'TR', 'UY', 'US', 'ID', 'JP', 'TH', 'VN', 'RO', 'IL', 'ZA', 'SA', 'AE', 'BH', 'QA', 'OM', 'KW', 'EG', 'MA', 'DZ', 'TN', 'LB', 'JO', 'PS', 'IN', 'BY', 'KZ', 'MD', 'UA', 'AL', 'BA', 'HR', 'MK', 'SI', 'KR', 'BD', 'PK', 'LK', 'GH', 'KE', 'NG', 'TZ', 'UG', 'AG', 'BS', 'BB', 'BZ', 'BT', 'BW', 'BF', 'CV', 'DM', 'FJ', 'GM', 'GD', 'GW', 'GY', 'HT', 'JM', 'KI', 'LS', 'LR', 'MW', 'MV', 'ML', 'MH', 'FM', 'NA', 'NR', 'NE', 'PW', 'PG', 'WS', 'ST', 'SN', 'SC', 'SL', 'SB', 'KN', 'LC', 'VC', 'SR', 'TL', 'TO', 'TT', 'TV', 'VU', 'BN', 'BI', 'KH', 'CM', 'TD', 'KM', 'GQ', 'SZ', 'GA', 'GN', 'KG', 'LA', 'MO', 'MR', 'MN', 'NP', 'RW', 'TG', 'UZ', 'ZW', 'BJ', 'MG', 'MU', 'MZ', 'AO', 'CI', 'DJ', 'ZM', 'CD', 'CG', 'IQ', 'LY', 'TJ', 'VE', 'ET'], 'external_urls': {'spotify': 'https://open.spotify.com/album/2gKQvajkEEaDtkqJ8FJ4uw'}, 'href': 'https://api.spotify.com/v1/albums/2gKQvajkEEaDtkqJ8FJ4uw', 'id': '2gKQvajkEEaDtkqJ8FJ4uw', 'images': [{'height': 640, 'url': 'https://i.scdn.co/image/ab67616d0000b273de6bd09b07e2b4af4e409f6c', 'width': 640}, {'height': 300, 'url': 'https://i.scdn.co/image/ab67616d00001e02de6bd09b07e2b4af4e409f6c', 'width': 300}, {'height': 64, 'url': 'https://i.scdn.co/image/ab67616d00004851de6bd09b07e2b4af4e409f6c', 'width': 64}], 'name': 'Fetty Wap (Deluxe)', 'release_date': '2015-09-25', 'release_date_precision': 'day', 'total_tracks': 20, 'type': 'album', 'uri': 'spotify:album:2gKQvajkEEaDtkqJ8FJ4uw'}, 'artists': [{'external_urls': {'spotify': 'https://open.spotify.com/artist/6PXS4YHDkKvl1wkIl4V8DL'}, 'href': 'https://api.spotify.com/v1/artists/6PXS4YHDkKvl1wkIl4V8DL', 'id': '6PXS4YHDkKvl1wkIl4V8DL', 'name': 'Fetty Wap', 'type': 'artist', 'uri': 'spotify:artist:6PXS4YHDkKvl1wkIl4V8DL'}], 'available_markets': ['AR', 'BO', 'BR', 'BG', 'CA', 'CL', 'CO', 'CR', 'CZ', 'DO', 'EC', 'EE', 'SV', 'GR', 'GT', 'HN', 'HK', 'HU', 'LV', 'LT', 'MY', 'MT', 'MX', 'NI', 'PA', 'PY', 'PE', 'PH', 'PL', 'SG', 'SK', 'TW', 'TR', 'UY', 'US', 'ID', 'JP', 'TH', 'VN', 'RO', 'IL', 'ZA', 'SA', 'AE', 'BH', 'QA', 'OM', 'KW', 'EG', 'MA', 'DZ', 'TN', 'LB', 'JO', 'PS', 'IN', 'BY', 'KZ', 'MD', 'UA', 'AL', 'BA', 'HR', 'MK', 'SI', 'KR', 'BD', 'PK', 'LK', 'GH', 'KE', 'NG', 'TZ', 'UG', 'AG', 'BS', 'BB', 'BZ', 'BT', 'BW', 'BF', 'CV', 'DM', 'FJ', 'GM', 'GD', 'GW', 'GY', 'HT', 'JM', 'KI', 'LS', 'LR', 'MW', 'MV', 'ML', 'MH', 'FM', 'NA', 'NR', 'NE', 'PW', 'PG', 'WS', 'ST', 'SN', 'SC', 'SL', 'SB', 'KN', 'LC', 'VC', 'SR', 'TL', 'TO', 'TT', 'TV', 'VU', 'BN', 'BI', 'KH', 'CM', 'TD', 'KM', 'GQ', 'SZ', 'GA', 'GN', 'KG', 'LA', 'MO', 'MR', 'MN', 'NP', 'RW', 'TG', 'UZ', 'ZW', 'BJ', 'MG', 'MU', 'MZ', 'AO', 'CI', 'DJ', 'ZM', 'CD', 'CG', 'IQ', 'LY', 'TJ', 'VE', 'ET'], 'disc_number': 1, 'duration_ms': 222093, 'episode': False, 'explicit': True, 'external_ids': {'isrc': 'QM7XC1400004'}, 'external_urls': {'spotify': 'https://open.spotify.com/track/2d8JP84HNLKhmd6IYOoupQ'}, 'href': 'https://api.spotify.com/v1/tracks/2d8JP84HNLKhmd6IYOoupQ', 'id': '2d8JP84HNLKhmd6IYOoupQ', 'is_local': False, 'name': 'Trap Queen', 'popularity': 78, 'preview_url': 'https://p.scdn.co/mp3-preview/bb80bc456e2de9dc8340862fce79addd6b008fe4?cid=1f209804c5c548a68c78811c3ed29b2b', 'track': True, 'track_number': 1, 'type': 'track', 'uri': 'spotify:track:2d8JP84HNLKhmd6IYOoupQ'}, 'video_thumbnail': {'url': None}}\n",
      "There are 280 tracks in this playlist\n",
      "Number of pages in playlist_pages: 3\n"
     ]
    }
   ],
   "source": [
    "playlist_endpoint = f'https://api.spotify.com/v1/playlists/{playlist_URI}/tracks'\n",
    "offset = 0\n",
    "playlist_pages = []\n",
    "\n",
    "# Looping as the json is cut off at 100\n",
    "\n",
    "while True:\n",
    "    response = requests.get(playlist_endpoint+f'?offset={offset}', headers=headers)\n",
    "    playlist_total = response.json()['total']\n",
    "    playlist_pages.append(response.json()['items'])\n",
    "\n",
    "    offset += 100\n",
    "    if offset>playlist_total:\n",
    "        break\n",
    "\n",
    "\n",
    "print(response.json()['items'][0])\n",
    "print(f\"There are {playlist_total} tracks in this playlist\")\n",
    "print(f\"Number of pages in playlist_pages: {len(playlist_pages)}\")"
   ]
  },
  {
   "cell_type": "code",
   "execution_count": 7,
   "metadata": {},
   "outputs": [
    {
     "name": "stdout",
     "output_type": "stream",
     "text": [
      "(280, 40)\n"
     ]
    },
    {
     "data": {
      "text/html": [
       "<div>\n",
       "<style scoped>\n",
       "    .dataframe tbody tr th:only-of-type {\n",
       "        vertical-align: middle;\n",
       "    }\n",
       "\n",
       "    .dataframe tbody tr th {\n",
       "        vertical-align: top;\n",
       "    }\n",
       "\n",
       "    .dataframe thead th {\n",
       "        text-align: right;\n",
       "    }\n",
       "</style>\n",
       "<table border=\"1\" class=\"dataframe\">\n",
       "  <thead>\n",
       "    <tr style=\"text-align: right;\">\n",
       "      <th></th>\n",
       "      <th>track_name</th>\n",
       "      <th>track_id</th>\n",
       "    </tr>\n",
       "  </thead>\n",
       "  <tbody>\n",
       "    <tr>\n",
       "      <th>0</th>\n",
       "      <td>Memories (feat. Kid Cudi)</td>\n",
       "      <td>7KPr0YxECy4Q1k2F17Sa0Q</td>\n",
       "    </tr>\n",
       "    <tr>\n",
       "      <th>1</th>\n",
       "      <td>Heat Waves - Diplo Remix</td>\n",
       "      <td>6A53tLi9vpLhmgaEvzRyip</td>\n",
       "    </tr>\n",
       "    <tr>\n",
       "      <th>2</th>\n",
       "      <td>Down On Me</td>\n",
       "      <td>0x3TibRgnSqzkcwrqBd4iX</td>\n",
       "    </tr>\n",
       "    <tr>\n",
       "      <th>3</th>\n",
       "      <td>Cooler Than Me - Single Mix</td>\n",
       "      <td>2V4bv1fNWfTcyRJKmej6Sj</td>\n",
       "    </tr>\n",
       "    <tr>\n",
       "      <th>4</th>\n",
       "      <td>CC Nike</td>\n",
       "      <td>0SQyJNUgav703ELhoHWq6O</td>\n",
       "    </tr>\n",
       "    <tr>\n",
       "      <th>...</th>\n",
       "      <td>...</td>\n",
       "      <td>...</td>\n",
       "    </tr>\n",
       "    <tr>\n",
       "      <th>75</th>\n",
       "      <td>Hold You - Hold Yuh</td>\n",
       "      <td>0j55p8YRAPG8yajtNyjt6A</td>\n",
       "    </tr>\n",
       "    <tr>\n",
       "      <th>76</th>\n",
       "      <td>The Motto</td>\n",
       "      <td>18asYwWugKjjsihZ0YvRxO</td>\n",
       "    </tr>\n",
       "    <tr>\n",
       "      <th>77</th>\n",
       "      <td>Titanium (feat. Sia)</td>\n",
       "      <td>77TT8Xvx637TpzV8kKGkUw</td>\n",
       "    </tr>\n",
       "    <tr>\n",
       "      <th>78</th>\n",
       "      <td>Somebody To Love Remix</td>\n",
       "      <td>7IUl5c6u18rzmyQOblj10T</td>\n",
       "    </tr>\n",
       "    <tr>\n",
       "      <th>79</th>\n",
       "      <td>Eenie Meenie</td>\n",
       "      <td>4vVTI94F9uJ8lHNDWKv0i2</td>\n",
       "    </tr>\n",
       "  </tbody>\n",
       "</table>\n",
       "<p>280 rows × 2 columns</p>\n",
       "</div>"
      ],
      "text/plain": [
       "                     track_name                track_id\n",
       "0     Memories (feat. Kid Cudi)  7KPr0YxECy4Q1k2F17Sa0Q\n",
       "1      Heat Waves - Diplo Remix  6A53tLi9vpLhmgaEvzRyip\n",
       "2                    Down On Me  0x3TibRgnSqzkcwrqBd4iX\n",
       "3   Cooler Than Me - Single Mix  2V4bv1fNWfTcyRJKmej6Sj\n",
       "4                       CC Nike  0SQyJNUgav703ELhoHWq6O\n",
       "..                          ...                     ...\n",
       "75          Hold You - Hold Yuh  0j55p8YRAPG8yajtNyjt6A\n",
       "76                    The Motto  18asYwWugKjjsihZ0YvRxO\n",
       "77         Titanium (feat. Sia)  77TT8Xvx637TpzV8kKGkUw\n",
       "78       Somebody To Love Remix  7IUl5c6u18rzmyQOblj10T\n",
       "79                 Eenie Meenie  4vVTI94F9uJ8lHNDWKv0i2\n",
       "\n",
       "[280 rows x 2 columns]"
      ]
     },
     "execution_count": 7,
     "metadata": {},
     "output_type": "execute_result"
    }
   ],
   "source": [
    "df = pd.DataFrame()\n",
    "for page in playlist_pages:\n",
    "    df = pd.concat([df,pd.json_normalize(page, sep='_')]) \n",
    "print(df.shape)\n",
    "df[['track_name','track_id']]"
   ]
  },
  {
   "cell_type": "markdown",
   "metadata": {},
   "source": [
    "Task 2"
   ]
  },
  {
   "cell_type": "code",
   "execution_count": 9,
   "metadata": {},
   "outputs": [
    {
     "data": {
      "text/plain": [
       "<Response [200]>"
      ]
     },
     "execution_count": 9,
     "metadata": {},
     "output_type": "execute_result"
    }
   ],
   "source": [
    "import requests\n",
    "\n",
    "topic = 'RaminsTopic'\n",
    "title = 'Topic 1 in Ramin\\'s Topic'\n",
    "message = 'Welcome to Ramin\\'s topic!'\n",
    "\n",
    "# send a message through ntfy.sh\n",
    "requests.post(\n",
    "    'https://ntfy.sh/' + topic,\n",
    "    data=message.encode('utf-8'),\n",
    "    headers={'Title': title}\n",
    ")\n"
   ]
  },
  {
   "cell_type": "markdown",
   "metadata": {},
   "source": [
    "![img](ntfy.png)"
   ]
  },
  {
   "cell_type": "markdown",
   "metadata": {},
   "source": []
  }
 ],
 "metadata": {
  "kernelspec": {
   "display_name": "DSI_env",
   "language": "python",
   "name": "python3"
  },
  "language_info": {
   "codemirror_mode": {
    "name": "ipython",
    "version": 3
   },
   "file_extension": ".py",
   "mimetype": "text/x-python",
   "name": "python",
   "nbconvert_exporter": "python",
   "pygments_lexer": "ipython3",
   "version": "3.12.1"
  }
 },
 "nbformat": 4,
 "nbformat_minor": 2
}
